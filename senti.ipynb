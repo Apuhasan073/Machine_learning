{
 "cells": [
  {
   "cell_type": "raw",
   "metadata": {},
   "source": [
    "import pandas as pd\n",
    "df = pd.read_csv('sentiment.csv')\n",
    "print(df)"
   ]
  },
  {
   "cell_type": "code",
   "execution_count": 2,
   "metadata": {},
   "outputs": [],
   "source": [
    "from io import StringIO\n",
    "import pandas as pd\n",
    "df = pd.read_csv('sentiment.csv')\n",
    "\n",
    "col = ['data', 'title']\n",
    "df = df[col]\n",
    "df = df[pd.notnull(df['data'])]\n",
    "df.columns = ['data', 'title']"
   ]
  },
  {
   "cell_type": "code",
   "execution_count": 6,
   "metadata": {},
   "outputs": [
    {
     "name": "stdout",
     "output_type": "stream",
     "text": [
      "                                                data  \\\n",
      "0  রুদ্র জাহেদ ভাই খুব ভাল লাগল আপনার মন্তব্যে অন...   \n",
      "1  যারা ব্লগ দিয়ে ইন্টারনেট চালানোর দাবি করেছিল ২...   \n",
      "2                                  থ্যাংকস সুমন ভাই।   \n",
      "3                                  থ্যাংকস সুমন ভাই।   \n",
      "4                              সময়ের নিষ্ঠ প্রতিবাদ।   \n",
      "\n",
      "                      title  category_id  \n",
      "0             Love(ভালবাসা)            0  \n",
      "1                Like (ভাল)            1  \n",
      "2                Like (ভাল)            1  \n",
      "3                Like (ভাল)            1  \n",
      "4  Consciousness (চেতনাবাদ)            2  \n"
     ]
    }
   ],
   "source": [
    "\n",
    "df['category_id'] = df['title'].factorize()[0]\n",
    "category_id_df = df[['title', 'category_id']].drop_duplicates().sort_values('category_id')\n",
    "category_to_id = dict(category_id_df.values)\n",
    "id_to_category = dict(category_id_df[['category_id', 'title']].values)\n",
    "print(df.head())"
   ]
  },
  {
   "cell_type": "code",
   "execution_count": 7,
   "metadata": {},
   "outputs": [],
   "source": [
    "##uni and bi-grams"
   ]
  },
  {
   "cell_type": "code",
   "execution_count": 5,
   "metadata": {},
   "outputs": [
    {
     "name": "stdout",
     "output_type": "stream",
     "text": [
      "(27731, 20759)\n"
     ]
    }
   ],
   "source": [
    "##tf-idf\n",
    "from sklearn.feature_extraction.text import TfidfVectorizer\n",
    "tfidf = TfidfVectorizer(sublinear_tf=True, min_df=5, norm='l2', encoding='latin-1', ngram_range=(1, 2), stop_words='english')\n",
    "features = tfidf.fit_transform(df.data).toarray()\n",
    "labels = df.category_id\n",
    "print(features.shape)"
   ]
  }
 ],
 "metadata": {
  "kernelspec": {
   "display_name": "Python 3",
   "language": "python",
   "name": "python3"
  },
  "language_info": {
   "codemirror_mode": {
    "name": "ipython",
    "version": 3
   },
   "file_extension": ".py",
   "mimetype": "text/x-python",
   "name": "python",
   "nbconvert_exporter": "python",
   "pygments_lexer": "ipython3",
   "version": "3.6.4"
  }
 },
 "nbformat": 4,
 "nbformat_minor": 2
}
